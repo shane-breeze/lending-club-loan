{
 "cells": [
  {
   "cell_type": "code",
   "execution_count": 95,
   "metadata": {},
   "outputs": [],
   "source": [
    "from IPython.display import display\n",
    "import numpy as np\n",
    "import pandas as pd\n",
    "import matplotlib as mpl"
   ]
  },
  {
   "cell_type": "code",
   "execution_count": null,
   "metadata": {},
   "outputs": [],
   "source": [
    "df = pd.read_csv(\"../data/loan.csv\")#, nrows=100_000)"
   ]
  },
  {
   "cell_type": "code",
   "execution_count": null,
   "metadata": {},
   "outputs": [],
   "source": [
    "df.shape"
   ]
  },
  {
   "cell_type": "code",
   "execution_count": null,
   "metadata": {},
   "outputs": [],
   "source": [
    "df.head(10)"
   ]
  },
  {
   "cell_type": "code",
   "execution_count": null,
   "metadata": {},
   "outputs": [],
   "source": [
    "metadata = pd.DataFrame({\n",
    "    \"dtype\": df.dtypes,\n",
    "    \"rows\": (~df.replace([np.nan], 0).isna()).sum(),\n",
    "    \"count\": df.count(),\n",
    "    \"nan\": df.isna().sum(),\n",
    "    \"inf\": df.replace([np.nan], 0).replace([np.inf, -np.inf], np.nan).isna().sum(),\n",
    "    \"nuniq\": df.nunique(),\n",
    "    \"mean\": df.loc[:,(df.dtypes == np.float) | (df.dtypes == np.int)].mean(),\n",
    "    \"std\": df.loc[:,(df.dtypes == np.float) | (df.dtypes == np.int)].std(),\n",
    "    \"min\": df.loc[:,(df.dtypes == np.float) | (df.dtypes == np.int)].min(),\n",
    "    \"25%\": df.loc[:,(df.dtypes == np.float) | (df.dtypes == np.int)].quantile(0.25),\n",
    "    \"50%\": df.loc[:,(df.dtypes == np.float) | (df.dtypes == np.int)].quantile(0.5),\n",
    "    \"75%\": df.loc[:,(df.dtypes == np.float) | (df.dtypes == np.int)].quantile(0.75),\n",
    "    \"max\": df.loc[:,(df.dtypes == np.float) | (df.dtypes == np.int)].max(),\n",
    "    \"1st\": df.iloc[0,:],\n",
    "    \"2nd\": df.iloc[1,:],\n",
    "    \"3rd\": df.iloc[2,:],\n",
    "}).fillna('')\n",
    "metadata.index = pd.Categorical(metadata.index, df.columns)\n",
    "metadata = metadata.sort_index()"
   ]
  },
  {
   "cell_type": "code",
   "execution_count": null,
   "metadata": {},
   "outputs": [],
   "source": [
    "def highlight_nan(series):\n",
    "    \"\"\"highlight rows in red with count==0, yellow if count!=nrows and otherwise no colouring\"\"\"\n",
    "    return [\n",
    "        'background-color: #fb9a99' if series[\"count\"] == 0 else\n",
    "        'background-color: #fdbf6f' if series[\"count\"] != series[\"rows\"] else\n",
    "        ''\n",
    "    ]*series.shape[0]"
   ]
  },
  {
   "cell_type": "code",
   "execution_count": null,
   "metadata": {},
   "outputs": [],
   "source": [
    "metadata.T.style.apply(highlight_nan, axis=0)"
   ]
  },
  {
   "cell_type": "markdown",
   "metadata": {},
   "source": [
    "## Analysis of missing values\n",
    "\n",
    "All entries are NA: id, member_id, url, desc\n",
    "Some entries have NA:\n",
    "Otherw"
   ]
  }
 ],
 "metadata": {
  "kernelspec": {
   "display_name": "Python 3",
   "language": "python",
   "name": "python3"
  },
  "language_info": {
   "codemirror_mode": {
    "name": "ipython",
    "version": 3
   },
   "file_extension": ".py",
   "mimetype": "text/x-python",
   "name": "python",
   "nbconvert_exporter": "python",
   "pygments_lexer": "ipython3",
   "version": "3.8.2"
  }
 },
 "nbformat": 4,
 "nbformat_minor": 4
}
